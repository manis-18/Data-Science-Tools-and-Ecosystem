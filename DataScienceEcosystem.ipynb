{
 "cells": [
  {
   "cell_type": "markdown",
   "id": "07316f2f-c04a-4151-b4ff-8363325087ed",
   "metadata": {},
   "source": [
    "<h1>Data Science Tools and Ecosystem</h1>"
   ]
  },
  {
   "cell_type": "markdown",
   "id": "0870d6a4-6526-4c69-aaa7-bd4c79529ba0",
   "metadata": {},
   "source": [
    "This notebook is all about the Data Science tools and Ecosystem."
   ]
  },
  {
   "cell_type": "markdown",
   "id": "acae2aff-103e-4485-a641-db521c312873",
   "metadata": {},
   "source": [
    "<h4>Objectives:</h4>\n",
    "\n",
    "* List popular languages for Data Scientists\n",
    "* Commonly used libraries by Data Scientists\n",
    "* Open-source Tools used by Data Scientists\n",
    "* Basic Arithmetic operations"
   ]
  },
  {
   "cell_type": "markdown",
   "id": "34f04b6a-a8e7-4f86-9bef-e9584f3f4037",
   "metadata": {},
   "source": [
    "some of the popular languages that Data Scientists use are:\n",
    "1. Python\n",
    "2. R\n",
    "3. SQL"
   ]
  },
  {
   "cell_type": "markdown",
   "id": "48f5d573-68e1-41ca-8444-60ea1d66098a",
   "metadata": {},
   "source": [
    "Some of the commonly used libraries by Data Scientists include:\n",
    "1. Pandas\n",
    "2. Scikit-learn\n",
    "3. seaborn\n",
    "4. Numpy\n",
    "5. Matplotlib"
   ]
  },
  {
   "cell_type": "markdown",
   "id": "45e170b8-7baa-4ad8-a6ab-95899bfb5059",
   "metadata": {},
   "source": [
    "|Data Science Tools|\n",
    "|------------------|\n",
    "|Jupyter Notebook|\n",
    "|Github|\n",
    "|Rstudio|"
   ]
  },
  {
   "cell_type": "markdown",
   "id": "190f90e4-20b6-4bab-a0af-9131fbe42ee6",
   "metadata": {},
   "source": [
    "<h3>Below are a few examples of evaluating arithmetic expressions in python</h3>"
   ]
  },
  {
   "cell_type": "code",
   "execution_count": 1,
   "id": "f33bc6f3-dbea-4baf-a187-ad1888bf776e",
   "metadata": {},
   "outputs": [],
   "source": [
    "a = 18\n",
    "b = 7"
   ]
  },
  {
   "cell_type": "code",
   "execution_count": 2,
   "id": "a3ac51b1-98e0-4842-80f5-7b74a364e740",
   "metadata": {},
   "outputs": [
    {
     "name": "stdout",
     "output_type": "stream",
     "text": [
      "25\n"
     ]
    }
   ],
   "source": [
    "print(a+b)"
   ]
  },
  {
   "cell_type": "code",
   "execution_count": 3,
   "id": "4b98ece3-8fa9-4871-8600-423236549fda",
   "metadata": {},
   "outputs": [
    {
     "name": "stdout",
     "output_type": "stream",
     "text": [
      "11\n"
     ]
    }
   ],
   "source": [
    "print(a-b)"
   ]
  },
  {
   "cell_type": "code",
   "execution_count": 4,
   "id": "8407f448-9b4c-4a57-872a-92418e65d378",
   "metadata": {},
   "outputs": [
    {
     "name": "stdout",
     "output_type": "stream",
     "text": [
      "126\n"
     ]
    }
   ],
   "source": [
    "print(a*b)"
   ]
  },
  {
   "cell_type": "code",
   "execution_count": 5,
   "id": "a5b251c4-b6f5-48c1-a8bb-e7600136512a",
   "metadata": {},
   "outputs": [
    {
     "name": "stdout",
     "output_type": "stream",
     "text": [
      "2.5714285714285716\n"
     ]
    }
   ],
   "source": [
    "print(a/b)"
   ]
  },
  {
   "cell_type": "code",
   "execution_count": 6,
   "id": "9cc6aa5d-4b0c-408d-8c5d-e1e318c602e9",
   "metadata": {},
   "outputs": [
    {
     "name": "stdout",
     "output_type": "stream",
     "text": [
      "2\n"
     ]
    }
   ],
   "source": [
    "print(a//b)"
   ]
  },
  {
   "cell_type": "markdown",
   "id": "e03496f5-4395-4d9a-96f5-362c5902a65c",
   "metadata": {},
   "source": [
    "This is a simple arithmetic expression to multiply then add integers"
   ]
  },
  {
   "cell_type": "code",
   "execution_count": 7,
   "id": "bed212ca-24f9-4da9-8668-6143f4219e8c",
   "metadata": {},
   "outputs": [
    {
     "data": {
      "text/plain": [
       "17"
      ]
     },
     "execution_count": 7,
     "metadata": {},
     "output_type": "execute_result"
    }
   ],
   "source": [
    "(3*4)+5"
   ]
  },
  {
   "cell_type": "markdown",
   "id": "abf57876-4250-42e2-84bf-1cd3508a5206",
   "metadata": {},
   "source": [
    "This will convert 200 minutes into hours by dividing by 60"
   ]
  },
  {
   "cell_type": "code",
   "execution_count": 8,
   "id": "cf5f41ae-9d24-4d60-9e5f-4030c2c3f4a3",
   "metadata": {},
   "outputs": [
    {
     "name": "stdout",
     "output_type": "stream",
     "text": [
      "In hours :  3.3333333333333335\n"
     ]
    }
   ],
   "source": [
    "a = 200\n",
    "print(\"In hours : \", a/60)"
   ]
  },
  {
   "cell_type": "markdown",
   "id": "9a1d4960-f643-4f4e-9ca3-cabc0b7780e6",
   "metadata": {},
   "source": [
    "<h2>Author</h2>\n",
    "Mani Prasad Reddy"
   ]
  },
  {
   "cell_type": "code",
   "execution_count": null,
   "id": "9016625d-05e8-4dd6-867a-5254414436ae",
   "metadata": {},
   "outputs": [],
   "source": []
  }
 ],
 "metadata": {
  "kernelspec": {
   "display_name": "Python",
   "language": "python",
   "name": "conda-env-python-py"
  },
  "language_info": {
   "codemirror_mode": {
    "name": "ipython",
    "version": 3
   },
   "file_extension": ".py",
   "mimetype": "text/x-python",
   "name": "python",
   "nbconvert_exporter": "python",
   "pygments_lexer": "ipython3",
   "version": "3.7.12"
  }
 },
 "nbformat": 4,
 "nbformat_minor": 5
}
